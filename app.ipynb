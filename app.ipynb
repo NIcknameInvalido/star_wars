{
  "cells": [
    {
      "cell_type": "markdown",
      "metadata": {
        "colab_type": "text",
        "id": "view-in-github"
      },
      "source": [
        "<a href=\"https://colab.research.google.com/github/NIcknameInvalido/star_wars/blob/main/app.ipynb\" target=\"_parent\"><img src=\"https://colab.research.google.com/assets/colab-badge.svg\" alt=\"Open In Colab\"/></a>"
      ]
    },
    {
      "cell_type": "markdown",
      "metadata": {
        "id": "W7zj9VdL-k8F"
      },
      "source": [
        "# Importação de bibliotecas"
      ]
    },
    {
      "cell_type": "code",
      "execution_count": 1,
      "metadata": {
        "id": "j3zLqIMG-k8P"
      },
      "outputs": [],
      "source": [
        "import requests as req\n",
        "import pandas as pd\n",
        "import re as reg\n",
        "import sqlite3 as slite"
      ]
    },
    {
      "cell_type": "markdown",
      "metadata": {
        "id": "x29KoTzwYWjO"
      },
      "source": [
        "\n",
        "\n",
        "---\n",
        "\n"
      ]
    },
    {
      "cell_type": "markdown",
      "metadata": {
        "id": "Lteyl5AA_Yx8"
      },
      "source": [
        "# Consumo das API'S fornecidas pelo  https://swapi.dev/"
      ]
    },
    {
      "cell_type": "code",
      "execution_count": 2,
      "metadata": {
        "id": "vyZwmmVP-k8S"
      },
      "outputs": [],
      "source": [
        "characters = req.get('https://swapi.dev/api/people')\n",
        "films = req.get('https://swapi.dev/api/films')"
      ]
    },
    {
      "cell_type": "markdown",
      "metadata": {
        "id": "H0pvmpBX_y_o"
      },
      "source": [
        "# Criação de dataframes pandas para manipulação de dados"
      ]
    },
    {
      "cell_type": "code",
      "execution_count": 3,
      "metadata": {
        "id": "iy_MI6Pf-k8S"
      },
      "outputs": [],
      "source": [
        "df_character = pd.json_normalize(characters.json(), 'results')\n",
        "df_films = pd.json_normalize(films.json(), 'results')"
      ]
    },
    {
      "cell_type": "markdown",
      "metadata": {
        "id": "a9TWE1qs_tRH"
      },
      "source": [
        "# Aplicação"
      ]
    },
    {
      "cell_type": "markdown",
      "metadata": {
        "id": "aMcpPPskHnSa"
      },
      "source": [
        "## Funções"
      ]
    },
    {
      "cell_type": "code",
      "execution_count": 4,
      "metadata": {
        "id": "CkInHe8H-k8T"
      },
      "outputs": [],
      "source": [
        "def extractNumberFromUrl(url):\n",
        "    found = reg.search(r'/(\\d+)/', url)\n",
        "    return int(found.group(1)) if found else None"
      ]
    },
    {
      "cell_type": "code",
      "execution_count": 5,
      "metadata": {
        "id": "2sQrwaSS0Z0O"
      },
      "outputs": [],
      "source": [
        "def makeRequest(url):\n",
        "    response = req.get(url)\n",
        "    return response.json()"
      ]
    },
    {
      "cell_type": "markdown",
      "metadata": {
        "id": "OtWTTrh79-94"
      },
      "source": [
        "## Montando dataframes conforme as urls obtidas dos characters"
      ]
    },
    {
      "cell_type": "markdown",
      "metadata": {
        "id": "3XCtyiiE-RYP"
      },
      "source": [
        "### df_planets"
      ]
    },
    {
      "cell_type": "code",
      "execution_count": 6,
      "metadata": {
        "id": "ljDGkMwa4Ywy"
      },
      "outputs": [],
      "source": [
        "unique_urls = df_character['homeworld'].unique()\n",
        "df_planets_list = []\n",
        "for url in unique_urls:\n",
        "  df_planets_list.append(makeRequest(url))\n",
        "df_planets = pd.DataFrame(df_planets_list)"
      ]
    },
    {
      "cell_type": "code",
      "execution_count": 7,
      "metadata": {
        "colab": {
          "base_uri": "https://localhost:8080/",
          "height": 0
        },
        "id": "QbZNYgrt-bmT",
        "outputId": "5a81a7b1-bd80-4be9-830a-f8705f6c4030"
      },
      "outputs": [
        {
          "data": {
            "text/html": [
              "<div>\n",
              "<style scoped>\n",
              "    .dataframe tbody tr th:only-of-type {\n",
              "        vertical-align: middle;\n",
              "    }\n",
              "\n",
              "    .dataframe tbody tr th {\n",
              "        vertical-align: top;\n",
              "    }\n",
              "\n",
              "    .dataframe thead th {\n",
              "        text-align: right;\n",
              "    }\n",
              "</style>\n",
              "<table border=\"1\" class=\"dataframe\">\n",
              "  <thead>\n",
              "    <tr style=\"text-align: right;\">\n",
              "      <th></th>\n",
              "      <th>name</th>\n",
              "      <th>rotation_period</th>\n",
              "      <th>orbital_period</th>\n",
              "      <th>diameter</th>\n",
              "      <th>climate</th>\n",
              "      <th>gravity</th>\n",
              "      <th>terrain</th>\n",
              "      <th>surface_water</th>\n",
              "      <th>population</th>\n",
              "      <th>residents</th>\n",
              "      <th>films</th>\n",
              "      <th>created</th>\n",
              "      <th>edited</th>\n",
              "      <th>url</th>\n",
              "    </tr>\n",
              "  </thead>\n",
              "  <tbody>\n",
              "    <tr>\n",
              "      <th>0</th>\n",
              "      <td>Tatooine</td>\n",
              "      <td>23</td>\n",
              "      <td>304</td>\n",
              "      <td>10465</td>\n",
              "      <td>arid</td>\n",
              "      <td>1 standard</td>\n",
              "      <td>desert</td>\n",
              "      <td>1</td>\n",
              "      <td>200000</td>\n",
              "      <td>[https://swapi.dev/api/people/1/, https://swap...</td>\n",
              "      <td>[https://swapi.dev/api/films/1/, https://swapi...</td>\n",
              "      <td>2014-12-09T13:50:49.641000Z</td>\n",
              "      <td>2014-12-20T20:58:18.411000Z</td>\n",
              "      <td>https://swapi.dev/api/planets/1/</td>\n",
              "    </tr>\n",
              "    <tr>\n",
              "      <th>1</th>\n",
              "      <td>Naboo</td>\n",
              "      <td>26</td>\n",
              "      <td>312</td>\n",
              "      <td>12120</td>\n",
              "      <td>temperate</td>\n",
              "      <td>1 standard</td>\n",
              "      <td>grassy hills, swamps, forests, mountains</td>\n",
              "      <td>12</td>\n",
              "      <td>4500000000</td>\n",
              "      <td>[https://swapi.dev/api/people/3/, https://swap...</td>\n",
              "      <td>[https://swapi.dev/api/films/3/, https://swapi...</td>\n",
              "      <td>2014-12-10T11:52:31.066000Z</td>\n",
              "      <td>2014-12-20T20:58:18.430000Z</td>\n",
              "      <td>https://swapi.dev/api/planets/8/</td>\n",
              "    </tr>\n",
              "    <tr>\n",
              "      <th>2</th>\n",
              "      <td>Alderaan</td>\n",
              "      <td>24</td>\n",
              "      <td>364</td>\n",
              "      <td>12500</td>\n",
              "      <td>temperate</td>\n",
              "      <td>1 standard</td>\n",
              "      <td>grasslands, mountains</td>\n",
              "      <td>40</td>\n",
              "      <td>2000000000</td>\n",
              "      <td>[https://swapi.dev/api/people/5/, https://swap...</td>\n",
              "      <td>[https://swapi.dev/api/films/1/, https://swapi...</td>\n",
              "      <td>2014-12-10T11:35:48.479000Z</td>\n",
              "      <td>2014-12-20T20:58:18.420000Z</td>\n",
              "      <td>https://swapi.dev/api/planets/2/</td>\n",
              "    </tr>\n",
              "    <tr>\n",
              "      <th>3</th>\n",
              "      <td>Stewjon</td>\n",
              "      <td>unknown</td>\n",
              "      <td>unknown</td>\n",
              "      <td>0</td>\n",
              "      <td>temperate</td>\n",
              "      <td>1 standard</td>\n",
              "      <td>grass</td>\n",
              "      <td>unknown</td>\n",
              "      <td>unknown</td>\n",
              "      <td>[https://swapi.dev/api/people/10/]</td>\n",
              "      <td>[]</td>\n",
              "      <td>2014-12-10T16:16:26.566000Z</td>\n",
              "      <td>2014-12-20T20:58:18.452000Z</td>\n",
              "      <td>https://swapi.dev/api/planets/20/</td>\n",
              "    </tr>\n",
              "  </tbody>\n",
              "</table>\n",
              "</div>"
            ],
            "text/plain": [
              "       name rotation_period orbital_period diameter    climate     gravity  \\\n",
              "0  Tatooine              23            304    10465       arid  1 standard   \n",
              "1     Naboo              26            312    12120  temperate  1 standard   \n",
              "2  Alderaan              24            364    12500  temperate  1 standard   \n",
              "3   Stewjon         unknown        unknown        0  temperate  1 standard   \n",
              "\n",
              "                                    terrain surface_water  population  \\\n",
              "0                                    desert             1      200000   \n",
              "1  grassy hills, swamps, forests, mountains            12  4500000000   \n",
              "2                     grasslands, mountains            40  2000000000   \n",
              "3                                     grass       unknown     unknown   \n",
              "\n",
              "                                           residents  \\\n",
              "0  [https://swapi.dev/api/people/1/, https://swap...   \n",
              "1  [https://swapi.dev/api/people/3/, https://swap...   \n",
              "2  [https://swapi.dev/api/people/5/, https://swap...   \n",
              "3                 [https://swapi.dev/api/people/10/]   \n",
              "\n",
              "                                               films  \\\n",
              "0  [https://swapi.dev/api/films/1/, https://swapi...   \n",
              "1  [https://swapi.dev/api/films/3/, https://swapi...   \n",
              "2  [https://swapi.dev/api/films/1/, https://swapi...   \n",
              "3                                                 []   \n",
              "\n",
              "                       created                       edited  \\\n",
              "0  2014-12-09T13:50:49.641000Z  2014-12-20T20:58:18.411000Z   \n",
              "1  2014-12-10T11:52:31.066000Z  2014-12-20T20:58:18.430000Z   \n",
              "2  2014-12-10T11:35:48.479000Z  2014-12-20T20:58:18.420000Z   \n",
              "3  2014-12-10T16:16:26.566000Z  2014-12-20T20:58:18.452000Z   \n",
              "\n",
              "                                 url  \n",
              "0   https://swapi.dev/api/planets/1/  \n",
              "1   https://swapi.dev/api/planets/8/  \n",
              "2   https://swapi.dev/api/planets/2/  \n",
              "3  https://swapi.dev/api/planets/20/  "
            ]
          },
          "execution_count": 7,
          "metadata": {},
          "output_type": "execute_result"
        }
      ],
      "source": [
        "df_planets"
      ]
    },
    {
      "cell_type": "markdown",
      "metadata": {
        "id": "kCtivoc_-i27"
      },
      "source": [
        "### df_especies"
      ]
    },
    {
      "cell_type": "code",
      "execution_count": 8,
      "metadata": {
        "id": "mfTRX52c-npW"
      },
      "outputs": [],
      "source": [
        "unique_urls = df_character['species'].explode().dropna().unique()\n",
        "df_species_list = []\n",
        "for url in unique_urls:\n",
        "  df_species_list.append(makeRequest(url))\n",
        "df_species = pd.DataFrame(df_species_list)"
      ]
    },
    {
      "cell_type": "code",
      "execution_count": 9,
      "metadata": {
        "colab": {
          "base_uri": "https://localhost:8080/",
          "height": 0
        },
        "id": "_SizV-hoAfHh",
        "outputId": "86789ec9-3c57-4f9a-81e8-d4d20cbf9ea6"
      },
      "outputs": [
        {
          "data": {
            "text/html": [
              "<div>\n",
              "<style scoped>\n",
              "    .dataframe tbody tr th:only-of-type {\n",
              "        vertical-align: middle;\n",
              "    }\n",
              "\n",
              "    .dataframe tbody tr th {\n",
              "        vertical-align: top;\n",
              "    }\n",
              "\n",
              "    .dataframe thead th {\n",
              "        text-align: right;\n",
              "    }\n",
              "</style>\n",
              "<table border=\"1\" class=\"dataframe\">\n",
              "  <thead>\n",
              "    <tr style=\"text-align: right;\">\n",
              "      <th></th>\n",
              "      <th>name</th>\n",
              "      <th>classification</th>\n",
              "      <th>designation</th>\n",
              "      <th>average_height</th>\n",
              "      <th>skin_colors</th>\n",
              "      <th>hair_colors</th>\n",
              "      <th>eye_colors</th>\n",
              "      <th>average_lifespan</th>\n",
              "      <th>homeworld</th>\n",
              "      <th>language</th>\n",
              "      <th>people</th>\n",
              "      <th>films</th>\n",
              "      <th>created</th>\n",
              "      <th>edited</th>\n",
              "      <th>url</th>\n",
              "    </tr>\n",
              "  </thead>\n",
              "  <tbody>\n",
              "    <tr>\n",
              "      <th>0</th>\n",
              "      <td>Droid</td>\n",
              "      <td>artificial</td>\n",
              "      <td>sentient</td>\n",
              "      <td>n/a</td>\n",
              "      <td>n/a</td>\n",
              "      <td>n/a</td>\n",
              "      <td>n/a</td>\n",
              "      <td>indefinite</td>\n",
              "      <td>None</td>\n",
              "      <td>n/a</td>\n",
              "      <td>[https://swapi.dev/api/people/2/, https://swap...</td>\n",
              "      <td>[https://swapi.dev/api/films/1/, https://swapi...</td>\n",
              "      <td>2014-12-10T15:16:16.259000Z</td>\n",
              "      <td>2014-12-20T21:36:42.139000Z</td>\n",
              "      <td>https://swapi.dev/api/species/2/</td>\n",
              "    </tr>\n",
              "  </tbody>\n",
              "</table>\n",
              "</div>"
            ],
            "text/plain": [
              "    name classification designation average_height skin_colors hair_colors  \\\n",
              "0  Droid     artificial    sentient            n/a         n/a         n/a   \n",
              "\n",
              "  eye_colors average_lifespan homeworld language  \\\n",
              "0        n/a       indefinite      None      n/a   \n",
              "\n",
              "                                              people  \\\n",
              "0  [https://swapi.dev/api/people/2/, https://swap...   \n",
              "\n",
              "                                               films  \\\n",
              "0  [https://swapi.dev/api/films/1/, https://swapi...   \n",
              "\n",
              "                       created                       edited  \\\n",
              "0  2014-12-10T15:16:16.259000Z  2014-12-20T21:36:42.139000Z   \n",
              "\n",
              "                                url  \n",
              "0  https://swapi.dev/api/species/2/  "
            ]
          },
          "execution_count": 9,
          "metadata": {},
          "output_type": "execute_result"
        }
      ],
      "source": [
        "df_species"
      ]
    },
    {
      "cell_type": "markdown",
      "metadata": {
        "id": "QtUBTnFOBP-q"
      },
      "source": [
        "## Tratamento de dados"
      ]
    },
    {
      "cell_type": "markdown",
      "metadata": {
        "id": "OVOCL7ahGqWh"
      },
      "source": [
        "### Tratamento do dataframe Characters"
      ]
    },
    {
      "cell_type": "code",
      "execution_count": 10,
      "metadata": {
        "id": "VGtPEzTx-k8T"
      },
      "outputs": [],
      "source": [
        "df_character['characterID'] = df_character['url'].apply(extractNumberFromUrl)\n",
        "df_character['planetID'] = df_character['homeworld'].apply(extractNumberFromUrl)\n",
        "df_character['filmID'] = df_character['films'].apply(lambda x: [extractNumberFromUrl(url) for url in x])\n",
        "df_character['specieID'] = df_character['species'].apply(lambda x: [extractNumberFromUrl(url) for url in x])\n",
        "df_character['specieID'] = df_character['specieID'].apply(lambda x:  x[0] if x else 0)\n",
        "df_character['gender'] = df_character['gender'].replace('n/a', '')"
      ]
    },
    {
      "cell_type": "markdown",
      "metadata": {
        "id": "uuqq0dPVG0Co"
      },
      "source": [
        "### Tratamento do dataframe Films"
      ]
    },
    {
      "cell_type": "code",
      "execution_count": 11,
      "metadata": {
        "id": "GTZio2rtHAcZ"
      },
      "outputs": [],
      "source": [
        "df_films['filmID'] = df_films['url'].apply(extractNumberFromUrl)\n",
        "df_films['characters'] = df_films['characters'].apply(lambda x: [extractNumberFromUrl(url) for url in x])\n",
        "df_films['planets'] = df_films['planets'].apply(lambda x: [extractNumberFromUrl(url) for url in x])\n",
        "df_films['vehicles'] = df_films['vehicles'].apply(lambda x: [extractNumberFromUrl(url) for url in x])\n",
        "df_films['starships'] = df_films['starships'].apply(lambda x: [extractNumberFromUrl(url) for url in x])\n",
        "df_films['species'] = df_films['species'].apply(lambda x: [extractNumberFromUrl(url) for url in x])"
      ]
    },
    {
      "cell_type": "markdown",
      "metadata": {
        "id": "QMRSi8SFGyoQ"
      },
      "source": [
        "### Tratamento do dataframe Planets e Species"
      ]
    },
    {
      "cell_type": "code",
      "execution_count": 12,
      "metadata": {
        "id": "XulO3YkKB424"
      },
      "outputs": [],
      "source": [
        "df_planets['planetID'] = df_planets['url'].apply(extractNumberFromUrl)"
      ]
    },
    {
      "cell_type": "code",
      "execution_count": 13,
      "metadata": {
        "id": "gTGohN9TC1l-"
      },
      "outputs": [],
      "source": [
        "df_species['specieID'] = df_species['url'].apply(extractNumberFromUrl)"
      ]
    },
    {
      "cell_type": "markdown",
      "metadata": {
        "id": "EyzHcTMhFNKG"
      },
      "source": [
        "## Visualização de dados"
      ]
    },
    {
      "cell_type": "code",
      "execution_count": 14,
      "metadata": {
        "colab": {
          "base_uri": "https://localhost:8080/",
          "height": 0
        },
        "id": "1mzwS414-k8U",
        "outputId": "bddee309-c06e-4b6e-93b3-f237033ad9b5"
      },
      "outputs": [
        {
          "data": {
            "text/html": [
              "<div>\n",
              "<style scoped>\n",
              "    .dataframe tbody tr th:only-of-type {\n",
              "        vertical-align: middle;\n",
              "    }\n",
              "\n",
              "    .dataframe tbody tr th {\n",
              "        vertical-align: top;\n",
              "    }\n",
              "\n",
              "    .dataframe thead th {\n",
              "        text-align: right;\n",
              "    }\n",
              "</style>\n",
              "<table border=\"1\" class=\"dataframe\">\n",
              "  <thead>\n",
              "    <tr style=\"text-align: right;\">\n",
              "      <th></th>\n",
              "      <th>characterID</th>\n",
              "      <th>name</th>\n",
              "      <th>planetID</th>\n",
              "      <th>specieID</th>\n",
              "    </tr>\n",
              "  </thead>\n",
              "  <tbody>\n",
              "    <tr>\n",
              "      <th>0</th>\n",
              "      <td>1</td>\n",
              "      <td>Luke Skywalker</td>\n",
              "      <td>1</td>\n",
              "      <td>0</td>\n",
              "    </tr>\n",
              "    <tr>\n",
              "      <th>1</th>\n",
              "      <td>2</td>\n",
              "      <td>C-3PO</td>\n",
              "      <td>1</td>\n",
              "      <td>2</td>\n",
              "    </tr>\n",
              "    <tr>\n",
              "      <th>2</th>\n",
              "      <td>3</td>\n",
              "      <td>R2-D2</td>\n",
              "      <td>8</td>\n",
              "      <td>2</td>\n",
              "    </tr>\n",
              "  </tbody>\n",
              "</table>\n",
              "</div>"
            ],
            "text/plain": [
              "   characterID            name  planetID  specieID\n",
              "0            1  Luke Skywalker         1         0\n",
              "1            2           C-3PO         1         2\n",
              "2            3           R2-D2         8         2"
            ]
          },
          "execution_count": 14,
          "metadata": {},
          "output_type": "execute_result"
        }
      ],
      "source": [
        "df_character[['characterID', 'name', 'planetID', 'specieID']].head(3)"
      ]
    },
    {
      "cell_type": "code",
      "execution_count": 15,
      "metadata": {
        "colab": {
          "base_uri": "https://localhost:8080/",
          "height": 0
        },
        "id": "VrFFY_d4CguH",
        "outputId": "d6f1a21f-2350-42c7-b399-5d16794b5aef"
      },
      "outputs": [
        {
          "data": {
            "text/html": [
              "<div>\n",
              "<style scoped>\n",
              "    .dataframe tbody tr th:only-of-type {\n",
              "        vertical-align: middle;\n",
              "    }\n",
              "\n",
              "    .dataframe tbody tr th {\n",
              "        vertical-align: top;\n",
              "    }\n",
              "\n",
              "    .dataframe thead th {\n",
              "        text-align: right;\n",
              "    }\n",
              "</style>\n",
              "<table border=\"1\" class=\"dataframe\">\n",
              "  <thead>\n",
              "    <tr style=\"text-align: right;\">\n",
              "      <th></th>\n",
              "      <th>title</th>\n",
              "      <th>episode_id</th>\n",
              "      <th>opening_crawl</th>\n",
              "      <th>director</th>\n",
              "      <th>producer</th>\n",
              "      <th>release_date</th>\n",
              "      <th>characters</th>\n",
              "      <th>planets</th>\n",
              "      <th>starships</th>\n",
              "      <th>vehicles</th>\n",
              "      <th>species</th>\n",
              "      <th>created</th>\n",
              "      <th>edited</th>\n",
              "      <th>url</th>\n",
              "      <th>filmID</th>\n",
              "    </tr>\n",
              "  </thead>\n",
              "  <tbody>\n",
              "    <tr>\n",
              "      <th>0</th>\n",
              "      <td>A New Hope</td>\n",
              "      <td>4</td>\n",
              "      <td>It is a period of civil war.\\r\\nRebel spaceshi...</td>\n",
              "      <td>George Lucas</td>\n",
              "      <td>Gary Kurtz, Rick McCallum</td>\n",
              "      <td>1977-05-25</td>\n",
              "      <td>[1, 2, 3, 4, 5, 6, 7, 8, 9, 10, 12, 13, 14, 15...</td>\n",
              "      <td>[1, 2, 3]</td>\n",
              "      <td>[2, 3, 5, 9, 10, 11, 12, 13]</td>\n",
              "      <td>[4, 6, 7, 8]</td>\n",
              "      <td>[1, 2, 3, 4, 5]</td>\n",
              "      <td>2014-12-10T14:23:31.880000Z</td>\n",
              "      <td>2014-12-20T19:49:45.256000Z</td>\n",
              "      <td>https://swapi.dev/api/films/1/</td>\n",
              "      <td>1</td>\n",
              "    </tr>\n",
              "    <tr>\n",
              "      <th>1</th>\n",
              "      <td>The Empire Strikes Back</td>\n",
              "      <td>5</td>\n",
              "      <td>It is a dark time for the\\r\\nRebellion. Althou...</td>\n",
              "      <td>Irvin Kershner</td>\n",
              "      <td>Gary Kurtz, Rick McCallum</td>\n",
              "      <td>1980-05-17</td>\n",
              "      <td>[1, 2, 3, 4, 5, 10, 13, 14, 18, 20, 21, 22, 23...</td>\n",
              "      <td>[4, 5, 6, 27]</td>\n",
              "      <td>[3, 10, 11, 12, 15, 17, 21, 22, 23]</td>\n",
              "      <td>[8, 14, 16, 18, 19, 20]</td>\n",
              "      <td>[1, 2, 3, 6, 7]</td>\n",
              "      <td>2014-12-12T11:26:24.656000Z</td>\n",
              "      <td>2014-12-15T13:07:53.386000Z</td>\n",
              "      <td>https://swapi.dev/api/films/2/</td>\n",
              "      <td>2</td>\n",
              "    </tr>\n",
              "  </tbody>\n",
              "</table>\n",
              "</div>"
            ],
            "text/plain": [
              "                     title  episode_id  \\\n",
              "0               A New Hope           4   \n",
              "1  The Empire Strikes Back           5   \n",
              "\n",
              "                                       opening_crawl        director  \\\n",
              "0  It is a period of civil war.\\r\\nRebel spaceshi...    George Lucas   \n",
              "1  It is a dark time for the\\r\\nRebellion. Althou...  Irvin Kershner   \n",
              "\n",
              "                    producer release_date  \\\n",
              "0  Gary Kurtz, Rick McCallum   1977-05-25   \n",
              "1  Gary Kurtz, Rick McCallum   1980-05-17   \n",
              "\n",
              "                                          characters        planets  \\\n",
              "0  [1, 2, 3, 4, 5, 6, 7, 8, 9, 10, 12, 13, 14, 15...      [1, 2, 3]   \n",
              "1  [1, 2, 3, 4, 5, 10, 13, 14, 18, 20, 21, 22, 23...  [4, 5, 6, 27]   \n",
              "\n",
              "                             starships                 vehicles  \\\n",
              "0         [2, 3, 5, 9, 10, 11, 12, 13]             [4, 6, 7, 8]   \n",
              "1  [3, 10, 11, 12, 15, 17, 21, 22, 23]  [8, 14, 16, 18, 19, 20]   \n",
              "\n",
              "           species                      created                       edited  \\\n",
              "0  [1, 2, 3, 4, 5]  2014-12-10T14:23:31.880000Z  2014-12-20T19:49:45.256000Z   \n",
              "1  [1, 2, 3, 6, 7]  2014-12-12T11:26:24.656000Z  2014-12-15T13:07:53.386000Z   \n",
              "\n",
              "                              url  filmID  \n",
              "0  https://swapi.dev/api/films/1/       1  \n",
              "1  https://swapi.dev/api/films/2/       2  "
            ]
          },
          "execution_count": 15,
          "metadata": {},
          "output_type": "execute_result"
        }
      ],
      "source": [
        "df_films.head(2)"
      ]
    },
    {
      "cell_type": "code",
      "execution_count": 16,
      "metadata": {
        "colab": {
          "base_uri": "https://localhost:8080/",
          "height": 0
        },
        "id": "9y8PwGCTCjDa",
        "outputId": "f5ef4e66-b125-4434-e0ff-25fe1269baee"
      },
      "outputs": [
        {
          "data": {
            "text/html": [
              "<div>\n",
              "<style scoped>\n",
              "    .dataframe tbody tr th:only-of-type {\n",
              "        vertical-align: middle;\n",
              "    }\n",
              "\n",
              "    .dataframe tbody tr th {\n",
              "        vertical-align: top;\n",
              "    }\n",
              "\n",
              "    .dataframe thead th {\n",
              "        text-align: right;\n",
              "    }\n",
              "</style>\n",
              "<table border=\"1\" class=\"dataframe\">\n",
              "  <thead>\n",
              "    <tr style=\"text-align: right;\">\n",
              "      <th></th>\n",
              "      <th>name</th>\n",
              "      <th>rotation_period</th>\n",
              "      <th>orbital_period</th>\n",
              "      <th>diameter</th>\n",
              "      <th>climate</th>\n",
              "      <th>gravity</th>\n",
              "      <th>terrain</th>\n",
              "      <th>surface_water</th>\n",
              "      <th>population</th>\n",
              "      <th>residents</th>\n",
              "      <th>films</th>\n",
              "      <th>created</th>\n",
              "      <th>edited</th>\n",
              "      <th>url</th>\n",
              "      <th>planetID</th>\n",
              "    </tr>\n",
              "  </thead>\n",
              "  <tbody>\n",
              "    <tr>\n",
              "      <th>0</th>\n",
              "      <td>Tatooine</td>\n",
              "      <td>23</td>\n",
              "      <td>304</td>\n",
              "      <td>10465</td>\n",
              "      <td>arid</td>\n",
              "      <td>1 standard</td>\n",
              "      <td>desert</td>\n",
              "      <td>1</td>\n",
              "      <td>200000</td>\n",
              "      <td>[https://swapi.dev/api/people/1/, https://swap...</td>\n",
              "      <td>[https://swapi.dev/api/films/1/, https://swapi...</td>\n",
              "      <td>2014-12-09T13:50:49.641000Z</td>\n",
              "      <td>2014-12-20T20:58:18.411000Z</td>\n",
              "      <td>https://swapi.dev/api/planets/1/</td>\n",
              "      <td>1</td>\n",
              "    </tr>\n",
              "    <tr>\n",
              "      <th>1</th>\n",
              "      <td>Naboo</td>\n",
              "      <td>26</td>\n",
              "      <td>312</td>\n",
              "      <td>12120</td>\n",
              "      <td>temperate</td>\n",
              "      <td>1 standard</td>\n",
              "      <td>grassy hills, swamps, forests, mountains</td>\n",
              "      <td>12</td>\n",
              "      <td>4500000000</td>\n",
              "      <td>[https://swapi.dev/api/people/3/, https://swap...</td>\n",
              "      <td>[https://swapi.dev/api/films/3/, https://swapi...</td>\n",
              "      <td>2014-12-10T11:52:31.066000Z</td>\n",
              "      <td>2014-12-20T20:58:18.430000Z</td>\n",
              "      <td>https://swapi.dev/api/planets/8/</td>\n",
              "      <td>8</td>\n",
              "    </tr>\n",
              "  </tbody>\n",
              "</table>\n",
              "</div>"
            ],
            "text/plain": [
              "       name rotation_period orbital_period diameter    climate     gravity  \\\n",
              "0  Tatooine              23            304    10465       arid  1 standard   \n",
              "1     Naboo              26            312    12120  temperate  1 standard   \n",
              "\n",
              "                                    terrain surface_water  population  \\\n",
              "0                                    desert             1      200000   \n",
              "1  grassy hills, swamps, forests, mountains            12  4500000000   \n",
              "\n",
              "                                           residents  \\\n",
              "0  [https://swapi.dev/api/people/1/, https://swap...   \n",
              "1  [https://swapi.dev/api/people/3/, https://swap...   \n",
              "\n",
              "                                               films  \\\n",
              "0  [https://swapi.dev/api/films/1/, https://swapi...   \n",
              "1  [https://swapi.dev/api/films/3/, https://swapi...   \n",
              "\n",
              "                       created                       edited  \\\n",
              "0  2014-12-09T13:50:49.641000Z  2014-12-20T20:58:18.411000Z   \n",
              "1  2014-12-10T11:52:31.066000Z  2014-12-20T20:58:18.430000Z   \n",
              "\n",
              "                                url  planetID  \n",
              "0  https://swapi.dev/api/planets/1/         1  \n",
              "1  https://swapi.dev/api/planets/8/         8  "
            ]
          },
          "execution_count": 16,
          "metadata": {},
          "output_type": "execute_result"
        }
      ],
      "source": [
        "df_planets.head(2)"
      ]
    },
    {
      "cell_type": "code",
      "execution_count": 17,
      "metadata": {
        "colab": {
          "base_uri": "https://localhost:8080/",
          "height": 0
        },
        "id": "NDHqy4F_Clvx",
        "outputId": "e57991b3-8d43-4191-ede1-9915d38ad838"
      },
      "outputs": [
        {
          "data": {
            "text/html": [
              "<div>\n",
              "<style scoped>\n",
              "    .dataframe tbody tr th:only-of-type {\n",
              "        vertical-align: middle;\n",
              "    }\n",
              "\n",
              "    .dataframe tbody tr th {\n",
              "        vertical-align: top;\n",
              "    }\n",
              "\n",
              "    .dataframe thead th {\n",
              "        text-align: right;\n",
              "    }\n",
              "</style>\n",
              "<table border=\"1\" class=\"dataframe\">\n",
              "  <thead>\n",
              "    <tr style=\"text-align: right;\">\n",
              "      <th></th>\n",
              "      <th>name</th>\n",
              "      <th>classification</th>\n",
              "      <th>designation</th>\n",
              "      <th>average_height</th>\n",
              "      <th>skin_colors</th>\n",
              "      <th>hair_colors</th>\n",
              "      <th>eye_colors</th>\n",
              "      <th>average_lifespan</th>\n",
              "      <th>homeworld</th>\n",
              "      <th>language</th>\n",
              "      <th>people</th>\n",
              "      <th>films</th>\n",
              "      <th>created</th>\n",
              "      <th>edited</th>\n",
              "      <th>url</th>\n",
              "      <th>specieID</th>\n",
              "    </tr>\n",
              "  </thead>\n",
              "  <tbody>\n",
              "    <tr>\n",
              "      <th>0</th>\n",
              "      <td>Droid</td>\n",
              "      <td>artificial</td>\n",
              "      <td>sentient</td>\n",
              "      <td>n/a</td>\n",
              "      <td>n/a</td>\n",
              "      <td>n/a</td>\n",
              "      <td>n/a</td>\n",
              "      <td>indefinite</td>\n",
              "      <td>None</td>\n",
              "      <td>n/a</td>\n",
              "      <td>[https://swapi.dev/api/people/2/, https://swap...</td>\n",
              "      <td>[https://swapi.dev/api/films/1/, https://swapi...</td>\n",
              "      <td>2014-12-10T15:16:16.259000Z</td>\n",
              "      <td>2014-12-20T21:36:42.139000Z</td>\n",
              "      <td>https://swapi.dev/api/species/2/</td>\n",
              "      <td>2</td>\n",
              "    </tr>\n",
              "  </tbody>\n",
              "</table>\n",
              "</div>"
            ],
            "text/plain": [
              "    name classification designation average_height skin_colors hair_colors  \\\n",
              "0  Droid     artificial    sentient            n/a         n/a         n/a   \n",
              "\n",
              "  eye_colors average_lifespan homeworld language  \\\n",
              "0        n/a       indefinite      None      n/a   \n",
              "\n",
              "                                              people  \\\n",
              "0  [https://swapi.dev/api/people/2/, https://swap...   \n",
              "\n",
              "                                               films  \\\n",
              "0  [https://swapi.dev/api/films/1/, https://swapi...   \n",
              "\n",
              "                       created                       edited  \\\n",
              "0  2014-12-10T15:16:16.259000Z  2014-12-20T21:36:42.139000Z   \n",
              "\n",
              "                                url  specieID  \n",
              "0  https://swapi.dev/api/species/2/         2  "
            ]
          },
          "execution_count": 17,
          "metadata": {},
          "output_type": "execute_result"
        }
      ],
      "source": [
        "df_species.head(2)"
      ]
    },
    {
      "cell_type": "markdown",
      "metadata": {
        "id": "ulaKCbf_CaQc"
      },
      "source": [
        "## Junção de dados"
      ]
    },
    {
      "cell_type": "code",
      "execution_count": 18,
      "metadata": {
        "id": "r6dejc_Q-k8W"
      },
      "outputs": [],
      "source": [
        "df_charcter_expanded = df_character.explode('filmID')\n",
        "df_charcter_film = df_charcter_expanded[['characterID', 'filmID', 'planetID', 'specieID']]\n",
        "df_charcter_film = pd.merge(df_charcter_film, df_films, how='inner')"
      ]
    },
    {
      "cell_type": "code",
      "execution_count": 19,
      "metadata": {
        "id": "-4I7TkwF1iNJ"
      },
      "outputs": [],
      "source": [
        "df_charcter_expanded = df_character.explode('filmID')\n",
        "df_charcter_film = df_charcter_expanded[['characterID', 'filmID', 'planetID', 'specieID']]"
      ]
    },
    {
      "cell_type": "code",
      "execution_count": 20,
      "metadata": {
        "colab": {
          "base_uri": "https://localhost:8080/",
          "height": 1000
        },
        "id": "gIObkXdXbuzI",
        "outputId": "4eff0cd5-c46d-4fb2-d1a3-2c904f25037c"
      },
      "outputs": [
        {
          "data": {
            "text/html": [
              "<div>\n",
              "<style scoped>\n",
              "    .dataframe tbody tr th:only-of-type {\n",
              "        vertical-align: middle;\n",
              "    }\n",
              "\n",
              "    .dataframe tbody tr th {\n",
              "        vertical-align: top;\n",
              "    }\n",
              "\n",
              "    .dataframe thead th {\n",
              "        text-align: right;\n",
              "    }\n",
              "</style>\n",
              "<table border=\"1\" class=\"dataframe\">\n",
              "  <thead>\n",
              "    <tr style=\"text-align: right;\">\n",
              "      <th></th>\n",
              "      <th>characterID</th>\n",
              "      <th>filmID</th>\n",
              "      <th>planetID</th>\n",
              "      <th>specieID</th>\n",
              "    </tr>\n",
              "  </thead>\n",
              "  <tbody>\n",
              "    <tr>\n",
              "      <th>0</th>\n",
              "      <td>1</td>\n",
              "      <td>1</td>\n",
              "      <td>1</td>\n",
              "      <td>0</td>\n",
              "    </tr>\n",
              "    <tr>\n",
              "      <th>0</th>\n",
              "      <td>1</td>\n",
              "      <td>2</td>\n",
              "      <td>1</td>\n",
              "      <td>0</td>\n",
              "    </tr>\n",
              "    <tr>\n",
              "      <th>0</th>\n",
              "      <td>1</td>\n",
              "      <td>3</td>\n",
              "      <td>1</td>\n",
              "      <td>0</td>\n",
              "    </tr>\n",
              "    <tr>\n",
              "      <th>0</th>\n",
              "      <td>1</td>\n",
              "      <td>6</td>\n",
              "      <td>1</td>\n",
              "      <td>0</td>\n",
              "    </tr>\n",
              "    <tr>\n",
              "      <th>1</th>\n",
              "      <td>2</td>\n",
              "      <td>1</td>\n",
              "      <td>1</td>\n",
              "      <td>2</td>\n",
              "    </tr>\n",
              "    <tr>\n",
              "      <th>1</th>\n",
              "      <td>2</td>\n",
              "      <td>2</td>\n",
              "      <td>1</td>\n",
              "      <td>2</td>\n",
              "    </tr>\n",
              "    <tr>\n",
              "      <th>1</th>\n",
              "      <td>2</td>\n",
              "      <td>3</td>\n",
              "      <td>1</td>\n",
              "      <td>2</td>\n",
              "    </tr>\n",
              "    <tr>\n",
              "      <th>1</th>\n",
              "      <td>2</td>\n",
              "      <td>4</td>\n",
              "      <td>1</td>\n",
              "      <td>2</td>\n",
              "    </tr>\n",
              "    <tr>\n",
              "      <th>1</th>\n",
              "      <td>2</td>\n",
              "      <td>5</td>\n",
              "      <td>1</td>\n",
              "      <td>2</td>\n",
              "    </tr>\n",
              "    <tr>\n",
              "      <th>1</th>\n",
              "      <td>2</td>\n",
              "      <td>6</td>\n",
              "      <td>1</td>\n",
              "      <td>2</td>\n",
              "    </tr>\n",
              "  </tbody>\n",
              "</table>\n",
              "</div>"
            ],
            "text/plain": [
              "   characterID filmID  planetID  specieID\n",
              "0            1      1         1         0\n",
              "0            1      2         1         0\n",
              "0            1      3         1         0\n",
              "0            1      6         1         0\n",
              "1            2      1         1         2\n",
              "1            2      2         1         2\n",
              "1            2      3         1         2\n",
              "1            2      4         1         2\n",
              "1            2      5         1         2\n",
              "1            2      6         1         2"
            ]
          },
          "execution_count": 20,
          "metadata": {},
          "output_type": "execute_result"
        }
      ],
      "source": [
        "df_charcter_film.head(10)"
      ]
    },
    {
      "cell_type": "markdown",
      "metadata": {
        "id": "L03jGu9cDKSr"
      },
      "source": [
        "# **Banco de dados**\n",
        "\n",
        "---\n",
        "\n"
      ]
    },
    {
      "cell_type": "code",
      "execution_count": 21,
      "metadata": {},
      "outputs": [],
      "source": [
        "conn = slite.connect(\"db_star_wars\")"
      ]
    },
    {
      "cell_type": "markdown",
      "metadata": {
        "id": "KgcqL3zuE88v"
      },
      "source": [
        "## Deleção das tabelas para novas inserções"
      ]
    },
    {
      "cell_type": "code",
      "execution_count": 22,
      "metadata": {
        "id": "b7WBBZip-k8X"
      },
      "outputs": [],
      "source": [
        "conn.execute(\"\"\"\n",
        "    DROP TABLE IF EXISTS fact_star_wars\n",
        "\"\"\")\n",
        "conn.execute(\"\"\"\n",
        "    DROP TABLE IF EXISTS dim_planets\n",
        "\"\"\")\n",
        "conn.execute(\"\"\"\n",
        "    DROP TABLE IF EXISTS dim_characters\n",
        "\"\"\")\n",
        "conn.execute(\"\"\"\n",
        "    DROP TABLE IF EXISTS dim_films\n",
        "\"\"\")\n",
        "conn.execute(\"\"\"\n",
        "    DROP TABLE IF EXISTS dim_species\n",
        "\"\"\")\n",
        "conn.commit()"
      ]
    },
    {
      "cell_type": "markdown",
      "metadata": {
        "id": "jUmFHCOr-7oG"
      },
      "source": [
        "## Criação das tabelas para armazenar os dados"
      ]
    },
    {
      "cell_type": "code",
      "execution_count": 23,
      "metadata": {},
      "outputs": [],
      "source": [
        "conn.execute(\"\"\"\n",
        "    CREATE TABLE IF NOT EXISTS dim_planets(\n",
        "        planetID INTEGER NOT NULL PRIMARY KEY,\n",
        "        name VARCHAR(255) NOT NULL,\n",
        "        rotation_period INTEGER NOT NULL,\n",
        "        orbital_period INTEGER,\n",
        "        diameter INTEGER,\n",
        "        climate VARCHAR(15),\n",
        "        gravity VARCHAR(30),\n",
        "        terrain VARCHAR(60),\n",
        "        surface_water INTEGER\n",
        "    )\n",
        "\"\"\")\n",
        "conn.execute(\"\"\"\n",
        "    CREATE TABLE IF NOT EXISTS dim_films(\n",
        "        filmID INTEGER NOT NULL PRIMARY KEY,\n",
        "        title VARCHAR(255),\n",
        "        episode_id,\n",
        "        release_date DATE\n",
        "    )\n",
        "\"\"\")\n",
        "conn.execute(\"\"\"\n",
        "    CREATE TABLE IF NOT EXISTS dim_characters(\n",
        "        characterID INTEGER NOT NULL PRIMARY KEY,\n",
        "        name VARCHAR(255) NOT NULL,\n",
        "        height INTEGER,\n",
        "        mass INTEGER,\n",
        "        hair_color VARCHAR(15),\n",
        "        skin_color VARCHAR(15),\n",
        "        eye_color VARCHAR(15),\n",
        "        birth_year VARCHAR(30),\n",
        "        gender VARCHAR(15)\n",
        "    )\n",
        "\"\"\")\n",
        "conn.execute(\"\"\"\n",
        "    CREATE TABLE IF NOT EXISTS dim_species(\n",
        "        specieID INTEGER NOT NULL PRIMARY KEY,\n",
        "        name VARCHAR(30) NOT NULL,\n",
        "        classification VARCHAR(30) NOT NULL,\n",
        "        designation\tVARCHAR(30) NOT NULL,\n",
        "        average_height INTEGER,\n",
        "        skin_colors\tVARCHAR(255),\n",
        "        hair_colors\tVARCHAR(255),\n",
        "        eye_colors\tVARCHAR(255),\n",
        "        average_lifespan INTEGER,\t\n",
        "        language VARCHAR(30)\n",
        "    )\n",
        "\"\"\")\n",
        "conn.execute(\"\"\"\n",
        "    CREATE TABLE IF NOT EXISTS fact_star_wars(\n",
        "        factID INTEGER NOT NULL PRIMARY KEY,\n",
        "        filmID INTEGER NOT NULL,\n",
        "        characterID INTEGER NOT NULL,\n",
        "        planetID INTEGER NOT NULL,\n",
        "        specieID INTEGER \n",
        "    )\n",
        "\"\"\")\n",
        "\n",
        "conn.commit()\n"
      ]
    },
    {
      "cell_type": "markdown",
      "metadata": {
        "id": "zd5joXnEFF9d"
      },
      "source": [
        "## Inserção de registros"
      ]
    },
    {
      "cell_type": "code",
      "execution_count": 24,
      "metadata": {
        "id": "tQAYL9SY-k8a"
      },
      "outputs": [],
      "source": [
        "data_characters = df_character.to_dict(orient='records')\n",
        "data_films = df_films.to_dict(orient='records')\n",
        "data_planets = df_planets.to_dict(orient='records')\n",
        "data_species = df_species.to_dict(orient='records')\n",
        "data_fact = df_charcter_film.to_dict(orient='records')"
      ]
    },
    {
      "cell_type": "code",
      "execution_count": 25,
      "metadata": {
        "id": "QiBoJuxy-k8b"
      },
      "outputs": [
        {
          "name": "stdout",
          "output_type": "stream",
          "text": [
            "Dados inseridos\n"
          ]
        }
      ],
      "source": [
        "try:\n",
        "    for films in data_films:\n",
        "        conn.execute(\n",
        "            \"\"\"INSERT INTO dim_films (filmID, title, release_date) VALUES (?, ?, ?) \"\"\",\n",
        "                (\n",
        "                    films['filmID'],\n",
        "                    films['title'],\n",
        "                    films['release_date'],\n",
        "                )\n",
        "        )\n",
        "    for planet in data_planets:\n",
        "        conn.execute(\n",
        "            \"\"\"INSERT INTO dim_planets (planetID, name, rotation_period, orbital_period, diameter, climate, gravity, terrain, surface_water) VALUES (?, ?, ?, ?, ?, ?, ?, ?, ?) \"\"\",\n",
        "                (\n",
        "                    planet['planetID'],\n",
        "                    planet['name'],\n",
        "                    planet['rotation_period'],\n",
        "                    planet['orbital_period'],\n",
        "                    planet['diameter'],\n",
        "                    planet['climate'],\n",
        "                    planet['gravity'],\n",
        "                    planet['terrain'],\n",
        "                    planet['surface_water']\n",
        "                )\n",
        "        )\n",
        "    for character in data_characters:\n",
        "        conn.execute(\n",
        "            \"\"\"INSERT INTO dim_characters (characterID, name, height, mass, hair_color, skin_color, eye_color, birth_year, gender) VALUES (?, ?, ?, ?, ?, ?, ?, ?, ?) \"\"\",\n",
        "                (\n",
        "                    character['characterID'],\n",
        "                    character['name'],\n",
        "                    character['height'],\n",
        "                    character['mass'],\n",
        "                    character['hair_color'],\n",
        "                    character['skin_color'],\n",
        "                    character['eye_color'],\n",
        "                    character['birth_year'],\n",
        "                    character['gender']\n",
        "                )\n",
        "        )\n",
        "    for specie in data_species:\n",
        "        conn.execute(\n",
        "            \"\"\"INSERT INTO dim_species (specieID, name,classification,designation,average_height,skin_colors,hair_colors,eye_colors,average_lifespan,language) VALUES (?, ?, ?, ?, ?, ?, ?, ?, ?,?) \"\"\",\n",
        "                (\n",
        "                    specie['specieID'],\n",
        "                    specie['name'],\n",
        "                    specie['classification'],\n",
        "                    specie['designation'],\n",
        "                    specie['average_height'],\n",
        "                    specie['skin_colors'],\n",
        "                    specie['hair_colors'],\n",
        "                    specie['eye_colors'],\n",
        "                    specie['average_lifespan'],\n",
        "                    specie['language'],\n",
        "                )\n",
        "        )\n",
        "    for fact in data_fact:\n",
        "        conn.execute(\n",
        "            \"\"\"INSERT INTO fact_star_wars (characterID, filmID, planetID, specieID) VALUES (?, ?, ?, ?) \"\"\",\n",
        "                (\n",
        "                    fact['characterID'],\n",
        "                    fact['filmID'],\n",
        "                    fact['planetID'],\n",
        "                    fact['specieID']\n",
        "                )\n",
        "        )\n",
        "    \n",
        "    conn.commit()\n",
        "    conn.close()\n",
        "    print(\"Dados inseridos\")\n",
        "except Exception as e:\n",
        "     conn.rollback()\n",
        "     conn.close()\n",
        "     print(str(e))"
      ]
    }
  ],
  "metadata": {
    "colab": {
      "include_colab_link": true,
      "provenance": [],
      "toc_visible": true
    },
    "kernelspec": {
      "display_name": "Python 3",
      "language": "python",
      "name": "python3"
    },
    "language_info": {
      "codemirror_mode": {
        "name": "ipython",
        "version": 3
      },
      "file_extension": ".py",
      "mimetype": "text/x-python",
      "name": "python",
      "nbconvert_exporter": "python",
      "pygments_lexer": "ipython3",
      "version": "3.12.0"
    }
  },
  "nbformat": 4,
  "nbformat_minor": 0
}
